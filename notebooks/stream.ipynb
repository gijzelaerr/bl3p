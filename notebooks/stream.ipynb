{
 "cells": [
  {
   "cell_type": "code",
   "execution_count": 1,
   "metadata": {
    "pycharm": {
     "is_executing": false
    }
   },
   "outputs": [],
   "source": [
    "from pybl3p.public import trades_stream\n",
    "import pandas as pd"
   ]
  },
  {
   "cell_type": "code",
   "execution_count": null,
   "metadata": {},
   "outputs": [
    {
     "name": "stdout",
     "output_type": "stream",
     "text": [
      "date           1582128383\n",
      "marketplace        BTCEUR\n",
      "price_int       943512000\n",
      "type                  buy\n",
      "amount_int        4225489\n",
      "dtype: object\n",
      "Empty DataFrame\n",
      "Columns: []\n",
      "Index: []\n",
      "date           1582128395\n",
      "marketplace        BTCEUR\n",
      "price_int       943512000\n",
      "type                  buy\n",
      "amount_int        1516056\n",
      "dtype: object\n",
      "Empty DataFrame\n",
      "Columns: []\n",
      "Index: []\n"
     ]
    }
   ],
   "source": [
    "trades = pd.DataFrame()\n",
    "async for msg in trades_stream():\n",
    "    ps = pd.Series(msg)\n",
    "    print(ps)\n",
    "    print(trades)\n",
    "    trades.append(msg, ignore_index=True)"
   ]
  },
  {
   "cell_type": "code",
   "execution_count": null,
   "metadata": {},
   "outputs": [],
   "source": []
  }
 ],
 "metadata": {
  "kernelspec": {
   "display_name": "Python 3",
   "language": "python",
   "name": "python3"
  },
  "language_info": {
   "codemirror_mode": {
    "name": "ipython",
    "version": 3
   },
   "file_extension": ".py",
   "mimetype": "text/x-python",
   "name": "python",
   "nbconvert_exporter": "python",
   "pygments_lexer": "ipython3",
   "version": "3.7.6"
  },
  "pycharm": {
   "stem_cell": {
    "cell_type": "raw",
    "metadata": {
     "collapsed": false
    },
    "source": []
   }
  }
 },
 "nbformat": 4,
 "nbformat_minor": 1
}
