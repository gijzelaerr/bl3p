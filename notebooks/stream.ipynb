{
 "cells": [
  {
   "cell_type": "code",
   "execution_count": 7,
   "metadata": {
    "pycharm": {
     "is_executing": false
    }
   },
   "outputs": [],
   "source": [
    "from pybl3p.public import trades_stream"
   ]
  },
  {
   "cell_type": "code",
   "execution_count": null,
   "metadata": {},
   "outputs": [
    {
     "name": "stdout",
     "output_type": "stream",
     "text": [
      "{'date': 1573926796, 'marketplace': 'BTCEUR', 'price_int': 769837000, 'type': 'buy', 'amount_int': 768468}\n",
      "{'date': 1573926855, 'marketplace': 'BTCEUR', 'price_int': 769802000, 'type': 'buy', 'amount_int': 2685886}\n",
      "{'date': 1573927720, 'marketplace': 'BTCEUR', 'price_int': 769430000, 'type': 'buy', 'amount_int': 7210000}\n",
      "{'date': 1573928158, 'marketplace': 'BTCEUR', 'price_int': 769242000, 'type': 'buy', 'amount_int': 1112750}\n",
      "{'date': 1573928483, 'marketplace': 'BTCEUR', 'price_int': 769516000, 'type': 'buy', 'amount_int': 2583966}\n",
      "{'date': 1573928620, 'marketplace': 'BTCEUR', 'price_int': 769356000, 'type': 'buy', 'amount_int': 2326099}\n",
      "{'date': 1573928821, 'marketplace': 'BTCEUR', 'price_int': 769365000, 'type': 'buy', 'amount_int': 519105}\n",
      "{'date': 1573928846, 'marketplace': 'BTCEUR', 'price_int': 769202000, 'type': 'buy', 'amount_int': 260971}\n",
      "{'date': 1573928931, 'marketplace': 'BTCEUR', 'price_int': 769359000, 'type': 'buy', 'amount_int': 1900000}\n",
      "{'date': 1573929046, 'marketplace': 'BTCEUR', 'price_int': 769066000, 'type': 'buy', 'amount_int': 10332025}\n",
      "{'date': 1573929093, 'marketplace': 'BTCEUR', 'price_int': 765231000, 'type': 'sell', 'amount_int': 30000000}\n",
      "{'date': 1573929093, 'marketplace': 'BTCEUR', 'price_int': 764894000, 'type': 'sell', 'amount_int': 9000000}\n",
      "{'date': 1573929249, 'marketplace': 'BTCEUR', 'price_int': 769077000, 'type': 'buy', 'amount_int': 3232071}\n",
      "{'date': 1573929304, 'marketplace': 'BTCEUR', 'price_int': 769235000, 'type': 'buy', 'amount_int': 2586173}\n",
      "{'date': 1573929456, 'marketplace': 'BTCEUR', 'price_int': 769208000, 'type': 'buy', 'amount_int': 2279157}\n",
      "{'date': 1573929659, 'marketplace': 'BTCEUR', 'price_int': 769004000, 'type': 'buy', 'amount_int': 1564892}\n",
      "{'date': 1573930086, 'marketplace': 'BTCEUR', 'price_int': 769125000, 'type': 'buy', 'amount_int': 2858645}\n",
      "{'date': 1573930179, 'marketplace': 'BTCEUR', 'price_int': 768938000, 'type': 'buy', 'amount_int': 131943}\n",
      "{'date': 1573930232, 'marketplace': 'BTCEUR', 'price_int': 768944000, 'type': 'buy', 'amount_int': 1939455}\n",
      "{'date': 1573930404, 'marketplace': 'BTCEUR', 'price_int': 768887000, 'type': 'buy', 'amount_int': 132976}\n",
      "{'date': 1573930476, 'marketplace': 'BTCEUR', 'price_int': 769054000, 'type': 'buy', 'amount_int': 131941}\n",
      "{'date': 1573933037, 'marketplace': 'BTCEUR', 'price_int': 770745000, 'type': 'buy', 'amount_int': 43339167}\n",
      "{'date': 1573933037, 'marketplace': 'BTCEUR', 'price_int': 769980000, 'type': 'buy', 'amount_int': 30000000}\n",
      "{'date': 1573933037, 'marketplace': 'BTCEUR', 'price_int': 769763000, 'type': 'buy', 'amount_int': 100000000}\n",
      "{'date': 1573933944, 'marketplace': 'BTCEUR', 'price_int': 769415000, 'type': 'buy', 'amount_int': 839583}\n",
      "{'date': 1573934042, 'marketplace': 'BTCEUR', 'price_int': 769266000, 'type': 'buy', 'amount_int': 3209999}\n",
      "{'date': 1573934340, 'marketplace': 'BTCEUR', 'price_int': 768000000, 'type': 'buy', 'amount_int': 3229841}\n"
     ]
    }
   ],
   "source": [
    "trades = []\n",
    "async for msg in trades_stream():\n",
    "    print(msg)\n",
    "    trades.append(msg)"
   ]
  },
  {
   "cell_type": "code",
   "execution_count": null,
   "metadata": {},
   "outputs": [],
   "source": []
  }
 ],
 "metadata": {
  "kernelspec": {
   "display_name": "Python 3",
   "language": "python",
   "name": "python3"
  },
  "language_info": {
   "codemirror_mode": {
    "name": "ipython",
    "version": 3
   },
   "file_extension": ".py",
   "mimetype": "text/x-python",
   "name": "python",
   "nbconvert_exporter": "python",
   "pygments_lexer": "ipython3",
   "version": "3.7.3"
  },
  "pycharm": {
   "stem_cell": {
    "cell_type": "raw",
    "metadata": {
     "collapsed": false
    },
    "source": []
   }
  }
 },
 "nbformat": 4,
 "nbformat_minor": 1
}
