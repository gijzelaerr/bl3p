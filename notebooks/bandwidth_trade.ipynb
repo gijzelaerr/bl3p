{
 "cells": [
  {
   "cell_type": "code",
   "execution_count": null,
   "metadata": {},
   "outputs": [],
   "source": [
    "from os import environ\n",
    "from time import sleep\n",
    "from math import floor, ceil\n",
    "from pybl3p.private import orders, order_cancel, order_add, info\n",
    "from pybl3p.public import tradehistory"
   ]
  },
  {
   "cell_type": "code",
   "execution_count": null,
   "metadata": {},
   "outputs": [],
   "source": [
    "assert('BL3P_PUB' in environ)"
   ]
  },
  {
   "cell_type": "code",
   "execution_count": null,
   "metadata": {},
   "outputs": [],
   "source": [
    "# cancel all orders\n",
    "for index, row in orders().iterrows():\n",
    "    order_cancel(row['order_id'])"
   ]
  },
  {
   "cell_type": "code",
   "execution_count": null,
   "metadata": {},
   "outputs": [],
   "source": [
    "# make sure all orders are cancelled\n",
    "sleep(2)"
   ]
  },
  {
   "cell_type": "code",
   "execution_count": null,
   "metadata": {},
   "outputs": [],
   "source": [
    "# get available funds\n",
    "available_btc = int(info()['wallets']['BTC']['available']['value_int'])\n",
    "available_eur = int(info()['wallets']['EUR']['available']['value_int'])"
   ]
  },
  {
   "cell_type": "code",
   "execution_count": null,
   "metadata": {},
   "outputs": [],
   "source": [
    "available_btc, available_eur"
   ]
  },
  {
   "cell_type": "code",
   "execution_count": null,
   "metadata": {},
   "outputs": [],
   "source": [
    "# get mean for the day\n",
    "mean = tradehistory(timefactor='d', timevalue=1)['price'].mean() * 10**5"
   ]
  },
  {
   "cell_type": "code",
   "execution_count": null,
   "metadata": {},
   "outputs": [],
   "source": [
    "steps = 6\n",
    "increment = 0.03"
   ]
  },
  {
   "cell_type": "code",
   "execution_count": null,
   "metadata": {},
   "outputs": [],
   "source": [
    "counter = 1.00 + increment\n",
    "for i in range(steps):\n",
    "    counter += increment\n",
    "    price = int(mean * counter)\n",
    "    print(f\"price: {price}\")\n",
    "    order_id = order_add(type_='ask', amount=floor(available_btc/steps), price=price)\n",
    "    print(f\"order_id: {order_id}\")"
   ]
  },
  {
   "cell_type": "code",
   "execution_count": null,
   "metadata": {},
   "outputs": [],
   "source": [
    "counter = 1.00 - increment\n",
    "for i in range(steps):\n",
    "    counter -= increment\n",
    "    price = int(mean * counter)\n",
    "    print(f\"price: {price}\")\n",
    "    order_id = order_add(type_='bid', amount_funds=ceil(available_eur/steps), price=price)\n",
    "    print(f\"order_id: {order_id}\")"
   ]
  }
 ],
 "metadata": {
  "@webio": {
   "lastCommId": null,
   "lastKernelId": null
  },
  "kernelspec": {
   "display_name": "Python 3",
   "language": "python",
   "name": "python3"
  },
  "language_info": {
   "codemirror_mode": {
    "name": "ipython",
    "version": 3
   },
   "file_extension": ".py",
   "mimetype": "text/x-python",
   "name": "python",
   "nbconvert_exporter": "python",
   "pygments_lexer": "ipython3",
   "version": "3.7.6"
  }
 },
 "nbformat": 4,
 "nbformat_minor": 4
}
